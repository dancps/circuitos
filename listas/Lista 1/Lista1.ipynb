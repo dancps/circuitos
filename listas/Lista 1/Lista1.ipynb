{
 "cells": [
  {
   "cell_type": "markdown",
   "metadata": {},
   "source": [
    "# Lista 1"
   ]
  },
  {
   "cell_type": "markdown",
   "metadata": {},
   "source": [
    "# Conteudos\n",
    "* [Exercício 1](#Exercicio-1)\n",
    "* [Exercício 2](#Exercicio-2)\n",
    "* [Exercício 3](#Exercicio-3)\n",
    "* [Exercício 4](#Exercicio-4)\n",
    "* [Exercício 5](#Exercicio-5)\n",
    "* [Exercício 6](#Exercicio-6)\n",
    "* [Exercício 7](#Exercicio-7)\n",
    "* [Exercício 8](#Exercicio-8)\n",
    "* [Exercício 9](#Exercicio-9)\n",
    "* [Exercício 10](#Exercicio-10)\n",
    "* [Exercício 11](#Exercicio-11)\n",
    "* [Exercício 12](#Exercicio-12)\n",
    "* [Exercício 13](#Exercicio-13)\n",
    "* [Exercício 14](#Exercicio-14)\n",
    "* [Exercício 15](#Exercicio-15) "
   ]
  },
  {
   "cell_type": "code",
   "execution_count": 8,
   "metadata": {},
   "outputs": [],
   "source": [
    "import numpy as np\n",
    "from IPython.display import Markdown, Latex"
   ]
  },
  {
   "cell_type": "markdown",
   "metadata": {},
   "source": [
    "# Exercicio 1 ([↑](#Lista-1))"
   ]
  },
  {
   "cell_type": "code",
   "execution_count": 6,
   "metadata": {},
   "outputs": [
    {
     "data": {
      "text/plain": [
       "'q = 4.908422e-01 C'"
      ]
     },
     "metadata": {},
     "output_type": "display_data"
    }
   ],
   "source": [
    "q = (np.exp(-4)-1)/-2\n",
    "display(\"q = {:e} C\".format(q))"
   ]
  },
  {
   "cell_type": "markdown",
   "metadata": {},
   "source": [
    "# Exercicio 2 ([↑](#Lista-1))"
   ]
  },
  {
   "cell_type": "code",
   "execution_count": 21,
   "metadata": {},
   "outputs": [
    {
     "data": {
      "text/markdown": [
       "### Item a"
      ],
      "text/plain": [
       "<IPython.core.display.Markdown object>"
      ]
     },
     "metadata": {},
     "output_type": "display_data"
    },
    {
     "data": {
      "text/markdown": [
       "n.e. =  1.250000e+08 elétrons"
      ],
      "text/plain": [
       "<IPython.core.display.Markdown object>"
      ]
     },
     "metadata": {},
     "output_type": "display_data"
    },
    {
     "data": {
      "text/markdown": [
       "d =  1250000.00 R$"
      ],
      "text/plain": [
       "<IPython.core.display.Markdown object>"
      ]
     },
     "metadata": {},
     "output_type": "display_data"
    },
    {
     "data": {
      "text/markdown": [
       "### Item b"
      ],
      "text/plain": [
       "<IPython.core.display.Markdown object>"
      ]
     },
     "metadata": {},
     "output_type": "display_data"
    },
    {
     "data": {
      "text/markdown": [
       "n.e. =  9.375000e+05 elétrons"
      ],
      "text/plain": [
       "<IPython.core.display.Markdown object>"
      ]
     },
     "metadata": {},
     "output_type": "display_data"
    },
    {
     "data": {
      "text/markdown": [
       "d =  937500.00 R$"
      ],
      "text/plain": [
       "<IPython.core.display.Markdown object>"
      ]
     },
     "metadata": {},
     "output_type": "display_data"
    }
   ],
   "source": [
    "def dinheiros(i,t,rs):\n",
    "    #i = 2e-3 # A\n",
    "    #t = 0.01e-6 #s\n",
    "    #rs = 0.01 #RS/ele\n",
    "    e = 1.6e-19\n",
    "\n",
    "    q = i*t\n",
    "\n",
    "    ne = q/e\n",
    "\n",
    "    display(Markdown(\"n.e. =  {:e} elétrons\".format(ne)))\n",
    "\n",
    "    d = rs*ne\n",
    "    display(Markdown(\"d =  {:.2f} R$\".format(d)))\n",
    "    return d\n",
    "# Item a\n",
    "display(Markdown(\"### Item a\"))\n",
    "a = dinheiros(i=2e-3,t=.01e-6,rs=0.01)\n",
    "# Item b\n",
    "display(Markdown(\"### Item b\"))\n",
    "b = dinheiros(i=100e-6,t=1.5e-9,rs=1.0)"
   ]
  },
  {
   "cell_type": "markdown",
   "metadata": {},
   "source": [
    "# Exercicio 3 ([↑](#Lista-1))"
   ]
  },
  {
   "cell_type": "code",
   "execution_count": 27,
   "metadata": {},
   "outputs": [
    {
     "data": {
      "text/markdown": [
       "i =  8.00e-09 A"
      ],
      "text/plain": [
       "<IPython.core.display.Markdown object>"
      ]
     },
     "metadata": {},
     "output_type": "display_data"
    }
   ],
   "source": [
    "fe = 8 # fotons/eletrons\n",
    "nf = 4e11 #fotons/s\n",
    "\n",
    "e = 1.6e-19\n",
    "\n",
    "i = nf/fe*e\n",
    "display(Markdown(\"i =  {:.2e} A\".format(i)))\n",
    "    "
   ]
  },
  {
   "cell_type": "markdown",
   "metadata": {},
   "source": [
    "# Exercicio 4 ([↑](#Lista-1))"
   ]
  },
  {
   "cell_type": "code",
   "execution_count": 29,
   "metadata": {},
   "outputs": [
    {
     "data": {
      "text/markdown": [
       "v =  1.20e-02 V"
      ],
      "text/plain": [
       "<IPython.core.display.Markdown object>"
      ]
     },
     "metadata": {},
     "output_type": "display_data"
    }
   ],
   "source": [
    "E =96e-3\n",
    "ne = 50e18\n",
    "q = ne*1.6e-19\n",
    "v = E/q\n",
    "\n",
    "display(Markdown(\"v =  {:.2e} V\".format(v)))"
   ]
  },
  {
   "cell_type": "markdown",
   "metadata": {},
   "source": [
    "# Exercicio 5 ([↑](#Lista-1))"
   ]
  },
  {
   "cell_type": "code",
   "execution_count": 38,
   "metadata": {},
   "outputs": [
    {
     "name": "stdout",
     "output_type": "stream",
     "text": [
      "5\n"
     ]
    },
    {
     "data": {
      "text/markdown": [
       "q =  1.0000e+01 C"
      ],
      "text/plain": [
       "<IPython.core.display.Markdown object>"
      ]
     },
     "metadata": {},
     "output_type": "display_data"
    },
    {
     "data": {
      "text/markdown": [
       "W =  3.4028e-05 J"
      ],
      "text/plain": [
       "<IPython.core.display.Markdown object>"
      ]
     },
     "metadata": {},
     "output_type": "display_data"
    }
   ],
   "source": [
    "i = 2 \n",
    "t = 5\n",
    "q = i*t\n",
    "print(t)\n",
    "\n",
    "display(Markdown(\"q =  {:.4e} C\".format(q)))\n",
    "\n",
    "v_int = lambda t_f,t_i: (11*t_f + 0.25*(t_f**2)) - (11*t_i + 0.25*(t_i**2)) \n",
    "\n",
    "w = v_int(t,0)*2/3.6e6\n",
    "\n",
    "61.25*9\n",
    "\n",
    "display(Markdown(\"W =  {:.4e} J\".format(w)))"
   ]
  },
  {
   "cell_type": "markdown",
   "metadata": {},
   "source": [
    "# Exercicio 6 ([↑](#Lista-1))"
   ]
  },
  {
   "cell_type": "code",
   "execution_count": null,
   "metadata": {},
   "outputs": [],
   "source": []
  },
  {
   "cell_type": "markdown",
   "metadata": {},
   "source": [
    "# Exercicio 7 ([↑](#Lista-1))"
   ]
  },
  {
   "cell_type": "code",
   "execution_count": null,
   "metadata": {},
   "outputs": [],
   "source": [
    "itens = [\n",
    "    ['a',  5, 120],\n",
    "    ['b', -8, 250],\n",
    "    ['c', 16,-150],\n",
    "    ['d',-10,-480],\n",
    "]\n",
    "\n",
    "for it, i, v in itens:\n",
    "    p = i*v\n",
    "    if(i*v<0): s = \"A->B\"\n",
    "    else: s = \"B->A\"\n",
    "    print(\"{}) Sentido de {}, {:.3f}\".format(it,s,p))"
   ]
  },
  {
   "cell_type": "markdown",
   "metadata": {},
   "source": [
    "# Exercicio 8 ([↑](#Lista-1))"
   ]
  },
  {
   "cell_type": "code",
   "execution_count": null,
   "metadata": {},
   "outputs": [],
   "source": []
  },
  {
   "cell_type": "markdown",
   "metadata": {},
   "source": [
    "# Exercicio 9 ([↑](#Lista-1))"
   ]
  },
  {
   "cell_type": "code",
   "execution_count": null,
   "metadata": {},
   "outputs": [],
   "source": [
    "def hp_to_W(hp):\n",
    "    return 745.7*hp\n",
    "\n",
    "def W_to_hp(w):\n",
    "    return w/745.7\n",
    "\n",
    "def cv_to_hp(cv):\n",
    "    return cv*1.0138\n",
    "\n",
    "def hp_to_cv(hp):\n",
    "    return hp/1.0138\n",
    "\n",
    "i = 100 #A\n",
    "v = 120 #V\n",
    "\n",
    "P_max = i*v#W\n",
    "\n",
    "motor = hp_to_W(5)\n",
    "seca = 3000\n",
    "chuv = 2400\n",
    "ferr = 1000\n",
    "\n",
    "casa = np.sum([motor,seca,chuv,ferr])\n",
    "print(\"Pot_casa = {} W\".format(casa))"
   ]
  },
  {
   "cell_type": "markdown",
   "metadata": {},
   "source": [
    "# Exercicio 10 ([↑](#Lista-1))"
   ]
  },
  {
   "cell_type": "code",
   "execution_count": null,
   "metadata": {},
   "outputs": [],
   "source": []
  },
  {
   "cell_type": "markdown",
   "metadata": {},
   "source": [
    "# Exercicio 11 ([↑](#Lista-1))"
   ]
  },
  {
   "cell_type": "code",
   "execution_count": null,
   "metadata": {},
   "outputs": [],
   "source": []
  },
  {
   "cell_type": "markdown",
   "metadata": {},
   "source": [
    "# Exercicio 12 ([↑](#Lista-1))"
   ]
  },
  {
   "cell_type": "code",
   "execution_count": null,
   "metadata": {},
   "outputs": [],
   "source": []
  },
  {
   "cell_type": "markdown",
   "metadata": {},
   "source": [
    "# Exercicio 13 ([↑](#Lista-1))"
   ]
  },
  {
   "cell_type": "code",
   "execution_count": null,
   "metadata": {},
   "outputs": [],
   "source": []
  },
  {
   "cell_type": "markdown",
   "metadata": {},
   "source": [
    "# Exercicio 14 ([↑](#Lista-1))"
   ]
  },
  {
   "cell_type": "code",
   "execution_count": null,
   "metadata": {},
   "outputs": [],
   "source": []
  },
  {
   "cell_type": "markdown",
   "metadata": {},
   "source": [
    "# Exercicio 15 ([↑](#Lista-1))"
   ]
  },
  {
   "cell_type": "code",
   "execution_count": null,
   "metadata": {},
   "outputs": [],
   "source": []
  },
  {
   "cell_type": "markdown",
   "metadata": {},
   "source": [
    "# Referencias ([↑](#Lista-1))\n"
   ]
  }
 ],
 "metadata": {
  "kernelspec": {
   "display_name": "Python 3",
   "language": "python",
   "name": "python3"
  },
  "language_info": {
   "codemirror_mode": {
    "name": "ipython",
    "version": 3
   },
   "file_extension": ".py",
   "mimetype": "text/x-python",
   "name": "python",
   "nbconvert_exporter": "python",
   "pygments_lexer": "ipython3",
   "version": "3.6.9"
  }
 },
 "nbformat": 4,
 "nbformat_minor": 4
}
