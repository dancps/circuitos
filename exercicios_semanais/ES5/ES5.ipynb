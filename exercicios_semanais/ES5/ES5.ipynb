{
 "cells": [
  {
   "cell_type": "code",
   "execution_count": 12,
   "metadata": {},
   "outputs": [
    {
     "name": "stdout",
     "output_type": "stream",
     "text": [
      "The autoreload extension is already loaded. To reload it, use:\n",
      "  %reload_ext autoreload\n"
     ]
    }
   ],
   "source": [
    "%load_ext autoreload\n",
    "%reload_ext autoreload\n",
    "%autoreload 2\n",
    "%reload_ext autoreload\n",
    "import sys\n",
    "sys.path.append(\"../Biblioteca/\") \n",
    "from Eletronica import *\n",
    "from Optica import *"
   ]
  },
  {
   "cell_type": "markdown",
   "metadata": {},
   "source": []
  },
  {
   "cell_type": "code",
   "execution_count": 31,
   "metadata": {},
   "outputs": [
    {
     "name": "stdout",
     "output_type": "stream",
     "text": [
      "n_A = 1.5321\n",
      "v_A = 1.96e+08\n",
      "lamb_A = 313.30\n",
      "f_A = 9.58e+14 Hz = 957.56 THz\n"
     ]
    }
   ],
   "source": [
    "opt = Constants()\n",
    "c = opt.c\n",
    "\n",
    "theta_A = 30  #o\n",
    "theta_B = 50  #o\n",
    "lamb_B = 480 #nm\n",
    "n_B = 1\n",
    "\n",
    "sA = np.sin(np.radians(theta_A))\n",
    "sB = np.sin(np.radians(theta_B))\n",
    "n_A = n_B*sB/sA\n",
    "print(f\"n_A = {n_A:.4f}\")\n",
    "\n",
    "v_A = c/n_A\n",
    "print(f\"v_A = {v_A:.2e}\")\n",
    "\n",
    "lamb_A = n_B * lamb_B /n_A\n",
    "print(f\"lamb_A = {lamb_A:.2f}\")\n",
    "f_A = c /(lamb_A*1e-9)\n",
    "print(f\"f_A = {f_A:.2e} Hz = {f_A/1e12:.2f} THz\")"
   ]
  }
 ],
 "metadata": {
  "kernelspec": {
   "display_name": "Python 3",
   "language": "python",
   "name": "python3"
  },
  "language_info": {
   "codemirror_mode": {
    "name": "ipython",
    "version": 3
   },
   "file_extension": ".py",
   "mimetype": "text/x-python",
   "name": "python",
   "nbconvert_exporter": "python",
   "pygments_lexer": "ipython3",
   "version": "3.6.8"
  }
 },
 "nbformat": 4,
 "nbformat_minor": 4
}
