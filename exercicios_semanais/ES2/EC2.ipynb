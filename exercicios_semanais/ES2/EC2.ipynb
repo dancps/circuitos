{
 "cells": [
  {
   "cell_type": "code",
   "execution_count": 36,
   "metadata": {},
   "outputs": [
    {
     "name": "stdout",
     "output_type": "stream",
     "text": [
      "The autoreload extension is already loaded. To reload it, use:\n",
      "  %reload_ext autoreload\n"
     ]
    }
   ],
   "source": [
    "%load_ext autoreload\n",
    "%reload_ext autoreload\n",
    "%autoreload 2\n",
    "%reload_ext autoreload\n",
    "import sys\n",
    "sys.path.append(\"../Biblioteca/\") \n",
    "from Eletronica import *"
   ]
  },
  {
   "cell_type": "markdown",
   "metadata": {},
   "source": [
    "# Exercício 1"
   ]
  },
  {
   "cell_type": "code",
   "execution_count": null,
   "metadata": {},
   "outputs": [],
   "source": []
  },
  {
   "cell_type": "markdown",
   "metadata": {},
   "source": [
    "Considere a ligação de resistores conforme a figura a seguir, em que R1 = 60 Ω, R2 = 10 Ω, R3 = 8 Ω, R4 = 25 Ω, R5 = 15 Ω, R6 = 15 Ω e R7 = 18 Ω. Complete as afirmações a seguir com o valor numérico correspondente.\n",
    "\n",
    "![title](imgs/es2/ES2a.png)"
   ]
  },
  {
   "cell_type": "code",
   "execution_count": 19,
   "metadata": {},
   "outputs": [],
   "source": [
    "R1 = 60\n",
    "R2 = 10\n",
    "R3 = 8\n",
    "R4 = 25\n",
    "R5 = 15\n",
    "R6 = 15\n",
    "R7 = 18"
   ]
  },
  {
   "cell_type": "markdown",
   "metadata": {},
   "source": [
    "a) A resistência equivalente do conjunto destacado, formado pelos resistores R5, R6 e R7 é de **?**Ω."
   ]
  },
  {
   "cell_type": "code",
   "execution_count": 20,
   "metadata": {},
   "outputs": [
    {
     "name": "stdout",
     "output_type": "stream",
     "text": [
      "5.294117647058823\n"
     ]
    }
   ],
   "source": [
    "it_a = Paralelo([R5,R6,R7])\n",
    "print(it_a)"
   ]
  },
  {
   "cell_type": "markdown",
   "metadata": {},
   "source": [
    "b) A resistência equivalente total, Req, é de **?** Ω."
   ]
  },
  {
   "cell_type": "code",
   "execution_count": 25,
   "metadata": {},
   "outputs": [
    {
     "name": "stdout",
     "output_type": "stream",
     "text": [
      "23.294117647058822\n",
      "12.058465286236297\n",
      "72.0584652862363\n"
     ]
    }
   ],
   "source": [
    "serie_1 = Serie([R2,R3,it_a])\n",
    "print(serie_1)\n",
    "paralelo_2 = Paralelo([R4,serie_1])\n",
    "print(paralelo_2)\n",
    "Req = Serie([paralelo_2,R1])\n",
    "print(Req)"
   ]
  },
  {
   "cell_type": "markdown",
   "metadata": {},
   "source": []
  },
  {
   "cell_type": "code",
   "execution_count": 41,
   "metadata": {},
   "outputs": [
    {
     "name": "stdout",
     "output_type": "stream",
     "text": [
      "[[30, -10], [-10, 70]]\n",
      "[100, -80]\n"
     ]
    },
    {
     "data": {
      "text/plain": [
       "array([ 3.1, -0.7])"
      ]
     },
     "execution_count": 41,
     "metadata": {},
     "output_type": "execute_result"
    }
   ],
   "source": [
    "R1= 20\n",
    "R2 = 10\n",
    "R3 = 20\n",
    "R4 = 40\n",
    "\n",
    "E = 100\n",
    "es = 80\n",
    "\n",
    "R = [\n",
    "    [R1+R2 , -R2],\n",
    "    [-R2,R2+R3+R4]\n",
    "]\n",
    "print(R)\n",
    "V = [100,-80]\n",
    "print(V)\n",
    "Malha(R,V)"
   ]
  }
 ],
 "metadata": {
  "kernelspec": {
   "display_name": "Python 3",
   "language": "python",
   "name": "python3"
  },
  "language_info": {
   "codemirror_mode": {
    "name": "ipython",
    "version": 3
   },
   "file_extension": ".py",
   "mimetype": "text/x-python",
   "name": "python",
   "nbconvert_exporter": "python",
   "pygments_lexer": "ipython3",
   "version": "3.6.8"
  }
 },
 "nbformat": 4,
 "nbformat_minor": 4
}
