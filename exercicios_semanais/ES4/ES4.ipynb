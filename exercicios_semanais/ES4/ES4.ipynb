{
 "cells": [
  {
   "cell_type": "code",
   "execution_count": 1,
   "metadata": {},
   "outputs": [],
   "source": [
    "%load_ext autoreload\n",
    "%reload_ext autoreload\n",
    "%autoreload 2\n",
    "%reload_ext autoreload\n",
    "import sys\n",
    "sys.path.append(\"../Biblioteca/\") \n",
    "from Eletronica import *"
   ]
  },
  {
   "cell_type": "markdown",
   "metadata": {},
   "source": []
  },
  {
   "cell_type": "code",
   "execution_count": 2,
   "metadata": {},
   "outputs": [
    {
     "name": "stdout",
     "output_type": "stream",
     "text": [
      "ZR = 4.0000+0.0000j\n",
      "ZL = 0.0000+30.0000j\n",
      "ZC = 0.0000-6.6667j\n",
      "Zeq = 4.0000+23.3333j\n",
      "Ief = 4.2426\n",
      "I = 6.0000+0.0000j\n",
      "VL = 0.0000+180.0000j\n"
     ]
    }
   ],
   "source": [
    "R = 4\n",
    "Imax = 6\n",
    "omega = 15\n",
    "theta = 0\n",
    "L = 2\n",
    "C = 0.01\n",
    "ZR = complex(R)\n",
    "ZL = complex(0,omega*L)\n",
    "ZC = complex(0,-1/(omega*C))\n",
    "\n",
    "print(f\"ZR = {ZR:.4f}\")\n",
    "print(f\"ZL = {ZL:.4f}\")\n",
    "print(f\"ZC = {ZC:.4f}\")\n",
    "\n",
    "Zeq = Serie([ZR,ZL,ZC])\n",
    "\n",
    "print(f\"Zeq = {Zeq:.4f}\")\n",
    "Ief = Imax/np.sqrt(2)\n",
    "\n",
    "print(f\"Ief = {Ief:.4f}\")\n",
    "I = Imax*np.exp(1j*np.deg2rad(theta))\n",
    "print(f\"I = {I:.4f}\")\n",
    "VL = I*ZL\n",
    "print(f\"VL = {VL:.4f}\")"
   ]
  },
  {
   "cell_type": "code",
   "execution_count": 7,
   "metadata": {},
   "outputs": [
    {
     "name": "stdout",
     "output_type": "stream",
     "text": [
      "(1.4142135623730951+1.4142135623730951j)\n"
     ]
    }
   ],
   "source": []
  }
 ],
 "metadata": {
  "kernelspec": {
   "display_name": "Python 3",
   "language": "python",
   "name": "python3"
  },
  "language_info": {
   "codemirror_mode": {
    "name": "ipython",
    "version": 3
   },
   "file_extension": ".py",
   "mimetype": "text/x-python",
   "name": "python",
   "nbconvert_exporter": "python",
   "pygments_lexer": "ipython3",
   "version": "3.6.8"
  }
 },
 "nbformat": 4,
 "nbformat_minor": 4
}
