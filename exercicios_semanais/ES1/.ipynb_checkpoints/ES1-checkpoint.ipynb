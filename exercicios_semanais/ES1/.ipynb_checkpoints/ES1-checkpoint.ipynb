{
 "cells": [
  {
   "cell_type": "markdown",
   "metadata": {},
   "source": [
    "# Exercicio 1\n",
    "\n",
    "Comprimento de onda: $\\lambda = 600nm$\n",
    "\n",
    "Potencia incidente: $P_i = 0.2 mW$\n",
    "\n",
    "Relação absorção/emissao: $tx = 16\\, \\frac{\\text{fotons}}{\\text{eletron}}$"
   ]
  },
  {
   "cell_type": "code",
   "execution_count": 10,
   "metadata": {},
   "outputs": [
    {
     "name": "stdout",
     "output_type": "stream",
     "text": [
      "f = 5.00000e+14 Hz\n",
      "E = 3.31300e-19 J\n",
      "Fot = 6.03682e+14 ft/s\n"
     ]
    }
   ],
   "source": [
    "c = 3e8\n",
    "q = 1.602e-19\n",
    "h = 6.626e-34\n",
    "tx =16\n",
    "\n",
    "lamb = 600e-9 #nm\n",
    "P_i = 0.2e-3 #W \n",
    "\n",
    "f = c/lamb\n",
    "print(\"f = {:.5e} Hz\".format(f))\n",
    "\n",
    "E = h*f\n",
    "print(\"E = {:.5e} J\".format(E))\n",
    "\n",
    "n_fot = P_i/E\n",
    "print(\"Fot = {:.5e} ft/s\".format(n_fot))\n",
    "\n",
    "n_ele = n_fot/tx\n",
    "print(\"Ele = {:.5e} ele/s\".format(n_fot))\n"
   ]
  }
 ],
 "metadata": {
  "kernelspec": {
   "display_name": "Python 3",
   "language": "python",
   "name": "python3"
  },
  "language_info": {
   "codemirror_mode": {
    "name": "ipython",
    "version": 3
   },
   "file_extension": ".py",
   "mimetype": "text/x-python",
   "name": "python",
   "nbconvert_exporter": "python",
   "pygments_lexer": "ipython3",
   "version": "3.6.9"
  }
 },
 "nbformat": 4,
 "nbformat_minor": 4
}
